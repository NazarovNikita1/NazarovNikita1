{
  "nbformat": 4,
  "nbformat_minor": 0,
  "metadata": {
    "colab": {
      "provenance": [],
      "include_colab_link": true
    },
    "kernelspec": {
      "name": "python3",
      "display_name": "Python 3"
    },
    "language_info": {
      "name": "python"
    }
  },
  "cells": [
    {
      "cell_type": "markdown",
      "metadata": {
        "id": "view-in-github",
        "colab_type": "text"
      },
      "source": [
        "<a href=\"https://colab.research.google.com/github/NazarovNikita1/NazarovNikita1/blob/main/%D0%9A%D0%BE%D0%BF%D0%B8%D1%8F_%D0%B1%D0%BB%D0%BE%D0%BA%D0%BD%D0%BE%D1%82%D0%B0_%22%D0%9A%D0%BE%D0%BF%D0%B8%D1%8F_%D0%B1%D0%BB%D0%BE%D0%BA%D0%BD%D0%BE%D1%82%D0%B0_%22data_types_imbd_ipynb%22_ipynb%22.ipynb\" target=\"_parent\"><img src=\"https://colab.research.google.com/assets/colab-badge.svg\" alt=\"Open In Colab\"/></a>"
      ]
    },
    {
      "cell_type": "markdown",
      "source": [
        "```\n",
        "MIT License\n",
        "\n",
        "Copyright (c) 2023 Victoria Firsanova\n",
        "\n",
        "Permission is hereby granted, free of charge, to any person obtaining a copy of this software and associated documentation files (the \"Software\"), to deal in the Software without restriction, including without limitation the rights to use, copy, modify, merge, publish, distribute, sublicense, and/or sell copies of the Software, and to permit persons to whom the Software is furnished to do so, subject to the following conditions:\n",
        "\n",
        "The above copyright notice and this permission notice shall be included in all copies or substantial portions of the Software.\n",
        "\n",
        "THE SOFTWARE IS PROVIDED \"AS IS\", WITHOUT WARRANTY OF ANY KIND, EXPRESS OR IMPLIED, INCLUDING BUT NOT LIMITED TO THE WARRANTIES OF MERCHANTABILITY, FITNESS FOR A PARTICULAR PURPOSE AND NONINFRINGEMENT. IN NO EVENT SHALL THE AUTHORS OR COPYRIGHT HOLDERS BE LIABLE FOR ANY CLAIM, DAMAGES OR OTHER LIABILITY, WHETHER IN AN ACTION OF CONTRACT, TORT OR OTHERWISE, ARISING FROM, OUT OF OR IN CONNECTION WITH THE SOFTWARE OR THE USE OR OTHER DEALINGS IN THE SOFTWARE.\n",
        "```"
      ],
      "metadata": {
        "id": "6cQvzaYa5Z9C"
      }
    },
    {
      "cell_type": "markdown",
      "source": [
        "Работаем с Cinemagoer: https://cinemagoer.github.io/"
      ],
      "metadata": {
        "id": "NDJ9wtCQ24UT"
      }
    },
    {
      "cell_type": "code",
      "source": [
        "!pip install cinemagoer"
      ],
      "metadata": {
        "id": "dZB9wR7Cq6DP",
        "colab": {
          "base_uri": "https://localhost:8080/"
        },
        "outputId": "13d9cd24-d602-4ddf-92ca-2f02eefa7ce0"
      },
      "execution_count": null,
      "outputs": [
        {
          "output_type": "stream",
          "name": "stdout",
          "text": [
            "Collecting cinemagoer\n",
            "  Downloading cinemagoer-2023.5.1-py3-none-any.whl (297 kB)\n",
            "\u001b[2K     \u001b[90m━━━━━━━━━━━━━━━━━━━━━━━━━━━━━━━━━━━━━━━\u001b[0m \u001b[32m297.2/297.2 kB\u001b[0m \u001b[31m5.8 MB/s\u001b[0m eta \u001b[36m0:00:00\u001b[0m\n",
            "\u001b[?25hRequirement already satisfied: SQLAlchemy in /usr/local/lib/python3.10/dist-packages (from cinemagoer) (2.0.21)\n",
            "Requirement already satisfied: lxml in /usr/local/lib/python3.10/dist-packages (from cinemagoer) (4.9.3)\n",
            "Requirement already satisfied: typing-extensions>=4.2.0 in /usr/local/lib/python3.10/dist-packages (from SQLAlchemy->cinemagoer) (4.5.0)\n",
            "Requirement already satisfied: greenlet!=0.4.17 in /usr/local/lib/python3.10/dist-packages (from SQLAlchemy->cinemagoer) (3.0.0)\n",
            "Installing collected packages: cinemagoer\n",
            "Successfully installed cinemagoer-2023.5.1\n"
          ]
        }
      ]
    },
    {
      "cell_type": "code",
      "execution_count": null,
      "metadata": {
        "id": "Zn7ebKaSjSmK"
      },
      "outputs": [],
      "source": [
        "from imdb import Cinemagoer\n",
        "\n",
        "# создаем класс Cinemagoer\n",
        "ia = Cinemagoer()\n",
        "\n",
        "# получаем информацию про фильм по ID в IMDB https://www.imdb.com/title/tt###\n",
        "movie = ia.get_movie('0472205')"
      ]
    },
    {
      "cell_type": "code",
      "source": [
        "# посмотрим, какая информация нам доступна\n",
        "sorted(movie.keys())"
      ],
      "metadata": {
        "id": "TjihNPcKxD7s",
        "colab": {
          "base_uri": "https://localhost:8080/"
        },
        "outputId": "f9a9881b-fd07-4e8e-d3e9-31a28ab74111"
      },
      "execution_count": null,
      "outputs": [
        {
          "output_type": "execute_result",
          "data": {
            "text/plain": [
              "['akas',\n",
              " 'art department',\n",
              " 'aspect ratio',\n",
              " 'assistant director',\n",
              " 'box office',\n",
              " 'camera and electrical department',\n",
              " 'canonical title',\n",
              " 'cast',\n",
              " 'casting department',\n",
              " 'certificates',\n",
              " 'cinematographer',\n",
              " 'color info',\n",
              " 'composer',\n",
              " 'costume department',\n",
              " 'costume designer',\n",
              " 'countries',\n",
              " 'country codes',\n",
              " 'cover url',\n",
              " 'director',\n",
              " 'distributors',\n",
              " 'editor',\n",
              " 'editorial department',\n",
              " 'full-size cover url',\n",
              " 'genres',\n",
              " 'imdbID',\n",
              " 'kind',\n",
              " 'language codes',\n",
              " 'languages',\n",
              " 'localized title',\n",
              " 'location management',\n",
              " 'long imdb canonical title',\n",
              " 'long imdb title',\n",
              " 'make up',\n",
              " 'miscellaneous crew',\n",
              " 'music department',\n",
              " 'original air date',\n",
              " 'original title',\n",
              " 'other companies',\n",
              " 'plot',\n",
              " 'plot outline',\n",
              " 'producer',\n",
              " 'production companies',\n",
              " 'production design',\n",
              " 'production manager',\n",
              " 'rating',\n",
              " 'runtimes',\n",
              " 'script department',\n",
              " 'set decoration',\n",
              " 'smart canonical title',\n",
              " 'smart long imdb canonical title',\n",
              " 'sound crew',\n",
              " 'stunt performer',\n",
              " 'synopsis',\n",
              " 'thanks',\n",
              " 'title',\n",
              " 'transportation department',\n",
              " 'videos',\n",
              " 'visual effects',\n",
              " 'votes',\n",
              " 'writer',\n",
              " 'year']"
            ]
          },
          "metadata": {},
          "execution_count": 3
        }
      ]
    },
    {
      "cell_type": "markdown",
      "source": [
        "# Задачи на работу со строками"
      ],
      "metadata": {
        "id": "YN57OZzX0A-t"
      }
    },
    {
      "cell_type": "code",
      "source": [
        "# для каждого актера фильма\n",
        "# выведите на экран одной строкой\n",
        "# FirstName LastName is an actor in MovieName\n",
        "# используйте конкатенацию и форматирование строк\n",
        "# hint: actor[''] - имя актера\n",
        "# movie['original title'] - название фильма\n",
        "for actor in movie['cast']:\n",
        "  print(f\"{actor['name']} is an actor in {movie['original title']}\")"
      ],
      "metadata": {
        "id": "IHmsLx-YyPCG",
        "colab": {
          "base_uri": "https://localhost:8080/"
        },
        "outputId": "72c54bae-71c2-449a-8e04-19840dab8e91"
      },
      "execution_count": null,
      "outputs": [
        {
          "output_type": "stream",
          "name": "stdout",
          "text": [
            "Cillian Murphy is an actor in Watching the Detectives\n",
            "Lucy Liu is an actor in Watching the Detectives\n",
            "Jason Sudeikis is an actor in Watching the Detectives\n",
            "Michael Panes is an actor in Watching the Detectives\n",
            "Callie Thorne is an actor in Watching the Detectives\n",
            "Michael Yurchak is an actor in Watching the Detectives\n",
            "Heather Burns is an actor in Watching the Detectives\n",
            "Mark Harelik is an actor in Watching the Detectives\n",
            "Ali Reza is an actor in Watching the Detectives\n",
            "Josh Pais is an actor in Watching the Detectives\n",
            "Brett Gelman is an actor in Watching the Detectives\n",
            "Lonny Ross is an actor in Watching the Detectives\n",
            "Paul Scheer is an actor in Watching the Detectives\n",
            "Richard Waddingham is an actor in Watching the Detectives\n",
            "J.T. O'Connor is an actor in Watching the Detectives\n",
            "Joel Marsh Garland is an actor in Watching the Detectives\n",
            "Erik Stolhanske is an actor in Watching the Detectives\n",
            "Daniel Raymont is an actor in Watching the Detectives\n",
            "Jack Bethke is an actor in Watching the Detectives\n",
            "Bryan Paulk is an actor in Watching the Detectives\n",
            "Katie Davidson is an actor in Watching the Detectives\n",
            "Dennis Gubbins is an actor in Watching the Detectives\n",
            "Rohit Sang is an actor in Watching the Detectives\n",
            "Tara Lynn Orr is an actor in Watching the Detectives\n",
            "Steve Lemme is an actor in Watching the Detectives\n",
            "Anthony St. James is an actor in Watching the Detectives\n",
            "Josh Gad is an actor in Watching the Detectives\n",
            "Connor Fox is an actor in Watching the Detectives\n",
            "Matthew Backer is an actor in Watching the Detectives\n",
            "Alix Elias is an actor in Watching the Detectives\n",
            "Lou Irizarry is an actor in Watching the Detectives\n",
            "Jason Evans Lee is an actor in Watching the Detectives\n",
            "Tommee May is an actor in Watching the Detectives\n",
            "Annie Roig-Pate is an actor in Watching the Detectives\n",
            "Paul Thornton is an actor in Watching the Detectives\n"
          ]
        }
      ]
    },
    {
      "cell_type": "code",
      "source": [
        "# сохраним краткое описание фильма в переменную\n",
        "\n",
        "synopsis = movie['plot'][0]\n",
        "\n",
        "# приведите этот текст к нижнему регистру\n",
        "\n",
        "synopsis_lower = synopsis.lower()\n",
        "\n",
        "# выведите на экран первые 100 символов\n",
        "\n",
        "print(synopsis_lower[:100])\n",
        "\n",
        "print(synopsis_lower.split()[:100])"
      ],
      "metadata": {
        "id": "gWnW9d-9w9fC",
        "colab": {
          "base_uri": "https://localhost:8080/"
        },
        "outputId": "3c638d24-340a-4c13-d461-1b29ab9f965f"
      },
      "execution_count": null,
      "outputs": [
        {
          "output_type": "stream",
          "name": "stdout",
          "text": [
            "a film noir buff to the extreme is given a taste of his own medicine and has his life turned upside \n",
            "['a', 'film', 'noir', 'buff', 'to', 'the', 'extreme', 'is', 'given', 'a', 'taste', 'of', 'his', 'own', 'medicine', 'and', 'has', 'his', 'life', 'turned', 'upside', 'down', 'by', 'a', 'kooky', 'femme', 'fatale', 'with', 'a', 'big', 'adventure', 'in', 'mind.', 'sometimes', 'love', 'is', 'stranger', 'than', 'fiction.']\n"
          ]
        }
      ]
    },
    {
      "cell_type": "code",
      "source": [
        "# посмотрите, сколько раз повторяются слова из заголовка фильма\n",
        "# для этого приведите название фильма к нижнему регистру\n",
        "# и используйте цикл for, если слов в заголовке несколько\n",
        "\n",
        "for word in movie['original title'].lower().split():\n",
        "  print(word)\n",
        "  print(synopsis_lower.count(word))\n",
        "\n",
        "# разбейте текст на слова и выведете первые 10 слов на экран, не используйте print\n",
        "\n",
        "###print"
      ],
      "metadata": {
        "colab": {
          "base_uri": "https://localhost:8080/"
        },
        "id": "4dGKXECdvQRq",
        "outputId": "b8e09a17-e863-4a7a-b8d0-fc5465fa4931"
      },
      "execution_count": null,
      "outputs": [
        {
          "output_type": "stream",
          "name": "stdout",
          "text": [
            "watching\n",
            "0\n",
            "the\n",
            "1\n",
            "detectives\n",
            "0\n"
          ]
        }
      ]
    },
    {
      "cell_type": "code",
      "source": [
        "# разбейте текст на слова и выведете первые 10 слов на экран, не используйте print\n",
        "text = synopsis_lower.split()\n",
        "text[:11]"
      ],
      "metadata": {
        "colab": {
          "base_uri": "https://localhost:8080/"
        },
        "id": "MVt_QtD2v0SU",
        "outputId": "b1a94136-2803-4788-d120-7db46040f558"
      },
      "execution_count": null,
      "outputs": [
        {
          "output_type": "execute_result",
          "data": {
            "text/plain": [
              "['a',\n",
              " 'film',\n",
              " 'noir',\n",
              " 'buff',\n",
              " 'to',\n",
              " 'the',\n",
              " 'extreme',\n",
              " 'is',\n",
              " 'given',\n",
              " 'a',\n",
              " 'taste']"
            ]
          },
          "metadata": {},
          "execution_count": 7
        }
      ]
    },
    {
      "cell_type": "markdown",
      "source": [
        "# Задачи на работу со списками"
      ],
      "metadata": {
        "id": "V4_tbOOR7xlZ"
      }
    },
    {
      "cell_type": "code",
      "source": [
        "# создайте список актеров фильма\n",
        "# сначала создайте пустой список\n",
        "# затем используйте цикл for и append\n",
        "\n",
        "actors = []\n",
        "\n",
        "for actor in movie['cast']:\n",
        "  actors.append(actor['name'])\n",
        "\n",
        "\n",
        "# выведите на экран первые 10 актеров из списка\n",
        "\n",
        "actors [:10]"
      ],
      "metadata": {
        "id": "p0XJ2Ib07wqf",
        "outputId": "746b17a5-8837-45fd-ca3d-6e3e750d5885",
        "colab": {
          "base_uri": "https://localhost:8080/"
        }
      },
      "execution_count": null,
      "outputs": [
        {
          "output_type": "execute_result",
          "data": {
            "text/plain": [
              "['Cillian Murphy',\n",
              " 'Lucy Liu',\n",
              " 'Jason Sudeikis',\n",
              " 'Michael Panes',\n",
              " 'Callie Thorne',\n",
              " 'Michael Yurchak',\n",
              " 'Heather Burns',\n",
              " 'Mark Harelik',\n",
              " 'Ali Reza',\n",
              " 'Josh Pais']"
            ]
          },
          "metadata": {},
          "execution_count": 8
        }
      ]
    },
    {
      "cell_type": "code",
      "source": [
        "# сгенерируйте список режиссеров фильма\n",
        "# hint: для запроса к имени используйте x['name']\n",
        "\n",
        "directors = [x['name'] for x in movie['directors']]\n",
        "\n",
        "directors\n",
        "\n",
        "# выведите на экран количество режиссеров фильма и их имена\n",
        "# используйте f-форматирование строк и \\n для переноса на новую строку\n",
        "\n",
        "print(f\"Всего режиссеров: {len(directors)}\\n Имена: {' '.join(map(str, directors))}\")"
      ],
      "metadata": {
        "id": "aVekoj5u8SgK",
        "outputId": "d1f2f31a-7a44-4ca5-bbb8-3ed155d49b06",
        "colab": {
          "base_uri": "https://localhost:8080/"
        }
      },
      "execution_count": null,
      "outputs": [
        {
          "output_type": "stream",
          "name": "stdout",
          "text": [
            "Всего режиссеров: 1\n",
            " Имена: Paul Soter\n"
          ]
        }
      ]
    },
    {
      "cell_type": "code",
      "source": [
        "# списки тоже можно контатенировать, сложите список актеров и режиссеров\n",
        "# выведите несколько первых и последних элементов списка\n",
        "\n",
        "involved = actors + directors\n",
        "\n",
        "print(involved[:3])\n",
        "print(involved[-3:])\n"
      ],
      "metadata": {
        "id": "r4tYj-JE9qDD",
        "outputId": "7d05e5ac-5636-4a4a-e71d-021eb20bafaa",
        "colab": {
          "base_uri": "https://localhost:8080/"
        }
      },
      "execution_count": null,
      "outputs": [
        {
          "output_type": "stream",
          "name": "stdout",
          "text": [
            "['Cillian Murphy', 'Lucy Liu', 'Jason Sudeikis']\n",
            "['Annie Roig-Pate', 'Paul Thornton', 'Paul Soter']\n"
          ]
        }
      ]
    },
    {
      "cell_type": "code",
      "source": [
        "# выполните сортировку списка актеров по алфавиту\n",
        "\n",
        "print (sorted(actors)[:5])\n",
        "\n",
        "# удалите в этом списке первый элемент с помощью индексации\n"
      ],
      "metadata": {
        "id": "E2EWKiA6_Ech",
        "outputId": "e57b40b9-e398-48a2-9717-770476bf14cf",
        "colab": {
          "base_uri": "https://localhost:8080/"
        }
      },
      "execution_count": null,
      "outputs": [
        {
          "output_type": "stream",
          "name": "stdout",
          "text": [
            "['Ali Reza', 'Alix Elias', 'Annie Roig-Pate', 'Anthony St. James', 'Brett Gelman']\n"
          ]
        }
      ]
    },
    {
      "cell_type": "code",
      "source": [
        "# удалите в этом списке первый элемент с помощью индексации\n",
        "\n",
        "actors.remove(actors[0])\n",
        "print(actors[:5])\n"
      ],
      "metadata": {
        "id": "kjsVt78f5RDV",
        "outputId": "f683816c-1c8c-4afe-fe91-b4021d6255c1",
        "colab": {
          "base_uri": "https://localhost:8080/"
        }
      },
      "execution_count": null,
      "outputs": [
        {
          "output_type": "stream",
          "name": "stdout",
          "text": [
            "['Callie Thorne', 'Michael Yurchak', 'Heather Burns', 'Mark Harelik', 'Ali Reza']\n"
          ]
        }
      ]
    },
    {
      "cell_type": "code",
      "source": [
        "# удалите нелюбимого актера с помощью ввода имен\n",
        "\n",
        "'Jason Sudeikis' not in actors\n",
        "\n"
      ],
      "metadata": {
        "id": "rcYPORwd5aDt",
        "outputId": "41c87b28-1ecc-4341-8824-cc81e1ac6fe1",
        "colab": {
          "base_uri": "https://localhost:8080/"
        }
      },
      "execution_count": null,
      "outputs": [
        {
          "output_type": "execute_result",
          "data": {
            "text/plain": [
              "True"
            ]
          },
          "metadata": {},
          "execution_count": 19
        }
      ]
    },
    {
      "cell_type": "code",
      "source": [
        "# проверьте, есть ли это имя в списке актеров с помощью in\n",
        "\n",
        "'Jason Sudeikis' in actors"
      ],
      "metadata": {
        "id": "z1aK1JXK5q0I",
        "outputId": "1bb94ea0-fb72-46e6-c313-2f6842b57f87",
        "colab": {
          "base_uri": "https://localhost:8080/"
        }
      },
      "execution_count": null,
      "outputs": [
        {
          "output_type": "execute_result",
          "data": {
            "text/plain": [
              "False"
            ]
          },
          "metadata": {},
          "execution_count": 20
        }
      ]
    },
    {
      "cell_type": "markdown",
      "source": [
        "# Задачи на работу со словарями"
      ],
      "metadata": {
        "id": "8sRhKPLTFAuF"
      }
    },
    {
      "cell_type": "code",
      "source": [
        "# создадим карточку любого актера из нашего фильма\n",
        "\n",
        "people = ia.search_person(actors[0])\n",
        "\n",
        "for person in people:\n",
        "   print(person.personID, person['name'])"
      ],
      "metadata": {
        "id": "2PuExDCoEFG_"
      },
      "execution_count": null,
      "outputs": []
    },
    {
      "cell_type": "code",
      "source": [
        "# запишем в перменную только один результат\n",
        "\n",
        "person = ia.get_person(people[0].personID)"
      ],
      "metadata": {
        "id": "2x_WWik8Indr"
      },
      "execution_count": null,
      "outputs": []
    },
    {
      "cell_type": "code",
      "source": [
        "person.keys()"
      ],
      "metadata": {
        "colab": {
          "base_uri": "https://localhost:8080/"
        },
        "id": "HWK3eAaQJL0S",
        "outputId": "396532bf-f3b9-4cba-908f-9ba6fe3fa574"
      },
      "execution_count": null,
      "outputs": [
        {
          "output_type": "execute_result",
          "data": {
            "text/plain": [
              "['headshot',\n",
              " 'imdbID',\n",
              " 'name',\n",
              " 'imdbIndex',\n",
              " 'filmography',\n",
              " 'canonical name',\n",
              " 'long imdb name',\n",
              " 'long imdb canonical name',\n",
              " 'full-size headshot']"
            ]
          },
          "metadata": {},
          "execution_count": 80
        }
      ]
    },
    {
      "cell_type": "code",
      "source": [
        "person.items()"
      ],
      "metadata": {
        "id": "jRE3qJuUJoKv"
      },
      "execution_count": null,
      "outputs": []
    },
    {
      "cell_type": "code",
      "source": [
        "# составим из этих элементов карточку следующего вида\n",
        "# [\n",
        "#    актер :\n",
        "#             {\n",
        "#               фильмы : список фильмов\n",
        "#               жанры : список жанров\n",
        "#             }\n",
        "# ]\n",
        "#\n",
        "# начнем с созднания списка фильмов\n",
        "# создаем пустой список\n",
        "\n",
        "###\n",
        "\n",
        "# для каждого фильма в person['filmography']['###']\n",
        "# вносим в список новый элемент\n",
        "\n",
        "###"
      ],
      "metadata": {
        "id": "rqL8zMq8JrTw"
      },
      "execution_count": null,
      "outputs": []
    },
    {
      "cell_type": "code",
      "source": [
        "# теперь для каждого из найденных фильмов извлечем жанр\n",
        "# и тоже запишем все это в список\n",
        "\n",
        "# создаем пустой список для жанров\n",
        "\n",
        "###\n",
        "\n",
        "# для каждого фильма из списка с фильмами\n",
        "# ищем подходящие фильмы в IMDB: ia.search_movie()\n",
        "# записываем в переменную ID этого фильма: ia.get_movie(movie.movieID)\n",
        "# извлекаем жанры, записываем во временную переменную\n",
        "# записываем жанры в список жанров"
      ],
      "metadata": {
        "id": "MdMA4jSBK5yZ"
      },
      "execution_count": null,
      "outputs": []
    },
    {
      "cell_type": "code",
      "source": [
        "# наши жанры повторяются\n",
        "\n",
        "genres"
      ],
      "metadata": {
        "colab": {
          "base_uri": "https://localhost:8080/"
        },
        "id": "8Z36xTMcK6Xs",
        "outputId": "bb01dfe6-f654-4783-e655-fd6d5478b582"
      },
      "execution_count": null,
      "outputs": [
        {
          "output_type": "execute_result",
          "data": {
            "text/plain": [
              "['Comedy', 'Comedy', 'Action', 'Animation', 'Comedy']"
            ]
          },
          "metadata": {},
          "execution_count": 95
        }
      ]
    },
    {
      "cell_type": "code",
      "source": [
        "# преобразуем список во множество\n",
        "\n",
        "genres = set(genres)\n",
        "genres"
      ],
      "metadata": {
        "colab": {
          "base_uri": "https://localhost:8080/"
        },
        "id": "CZoZrdoLNs0l",
        "outputId": "ff108c97-a45b-477c-cf2c-4a1705464a6b"
      },
      "execution_count": null,
      "outputs": [
        {
          "output_type": "execute_result",
          "data": {
            "text/plain": [
              "{'Action', 'Animation', 'Comedy'}"
            ]
          },
          "metadata": {},
          "execution_count": 97
        }
      ]
    },
    {
      "cell_type": "code",
      "source": [
        "# теперь мы можем собрать информацию об актере в карточку\n",
        "# [\n",
        "#    актер :\n",
        "#             {\n",
        "#               фильмы : список фильмов\n",
        "#               жанры : список жанров\n",
        "#             }\n",
        "# ]\n",
        "#\n",
        "\n",
        "# сначала создаем словарь с фильмами и жанрами\n",
        "\n",
        "###"
      ],
      "metadata": {
        "id": "_RtAgCoRN033"
      },
      "execution_count": null,
      "outputs": []
    },
    {
      "cell_type": "code",
      "source": [
        "# теперь временный словарь, в котором мы соединим эту информацию с именем актера\n",
        "\n",
        "###"
      ],
      "metadata": {
        "id": "pjxwcxH9OTk3"
      },
      "execution_count": null,
      "outputs": []
    },
    {
      "cell_type": "code",
      "source": [
        "# карточка готова, но мы наверняка захотим добавить туда еще актеров\n",
        "# создаем хранилище карточек в виде списка и вносим туда первую карточку с append\n",
        "\n",
        "###"
      ],
      "metadata": {
        "colab": {
          "base_uri": "https://localhost:8080/"
        },
        "id": "sPE1W57QPNYp",
        "outputId": "181c2fc4-bf2f-450f-a893-fa1bce873d2b"
      },
      "execution_count": null,
      "outputs": [
        {
          "output_type": "execute_result",
          "data": {
            "text/plain": [
              "[{'McAdams, Rachel': {'films': ['Dave',\n",
              "    \"Are You There God? It's Me, Margaret.\",\n",
              "    'Doctor Strange in the Multiverse of Madness',\n",
              "    'What If...?',\n",
              "    'Eurovision Song Contest: The Story of Fire Saga',\n",
              "    'Game Night',\n",
              "    'Disobedience',\n",
              "    'Doctor Strange',\n",
              "    'Spotlight',\n",
              "    'True Detective',\n",
              "    'Southpaw',\n",
              "    'Aloha',\n",
              "    'The Little Prince',\n",
              "    'Every Thing Will Be Fine',\n",
              "    'A Most Wanted Man',\n",
              "    'About Time',\n",
              "    'Passion',\n",
              "    'To the Wonder',\n",
              "    'The Vow',\n",
              "    'Sherlock Holmes: A Game of Shadows',\n",
              "    'Midnight in Paris',\n",
              "    'Morning Glory',\n",
              "    'Sherlock Holmes',\n",
              "    \"The Time Traveler's Wife\",\n",
              "    'State of Play',\n",
              "    'The Lucky Ones',\n",
              "    'Married Life',\n",
              "    'The Hot Chick: Deleted Scenes',\n",
              "    'The Family Stone',\n",
              "    'Wedding Crashers',\n",
              "    'Slings and Arrows',\n",
              "    'Red Eye',\n",
              "    'The Notebook: Deleted Scenes',\n",
              "    'Mean Girls: Deleted Scenes',\n",
              "    'The Notebook',\n",
              "    'Mean Girls',\n",
              "    'The Hot Chick',\n",
              "    'Perfect Pie',\n",
              "    'My Name Is Tanino',\n",
              "    'Guilt by Association',\n",
              "    'Earth: Final Conflict',\n",
              "    'Shotgun Love Dolls',\n",
              "    'The Famous Jett Jackson'],\n",
              "   'genres': {'Action', 'Animation', 'Comedy'}}}]"
            ]
          },
          "metadata": {},
          "execution_count": 100
        }
      ]
    },
    {
      "cell_type": "markdown",
      "source": [
        "Задание:\n",
        "\n",
        "- Создать карточки для 5 актеров одного (любого фильма) - можно больше, главное, чтобы ваш код масштабировался до любого количества актеров\n",
        "- В карточке каждого актера должна содержаться следующая информация:\n",
        " * фильмография в качестве актера\n",
        " * несколько жанров\n",
        " * год выпуска фильмов, где снимался актер\n",
        " * языки, на которых сняты эти фильмы\n",
        " * рейтинги этих фильмов\n",
        "\n",
        "Создание карточек должно быть автоматизировано: за один цикл работы программы должна создаваться одна карточка. Чтобы программа не работала слишком долго, можно сократить количество извлеченных фильмов до пяти, извлекать только один жанр, один язык, где их несколько.\n",
        "\n",
        "Если этого мало: используйте функции для своей работы (аргументами функции может быть количество актеров, количество фильмов и т.д.), добавьте к фильмографии синопсисы."
      ],
      "metadata": {
        "id": "d-Q6tLj6QVUj"
      }
    }
  ]
}